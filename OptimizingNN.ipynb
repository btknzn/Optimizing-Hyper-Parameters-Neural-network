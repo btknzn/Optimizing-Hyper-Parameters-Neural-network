{
 "cells": [
  {
   "cell_type": "markdown",
   "metadata": {},
   "source": [
    "# Optimizing Neural Network Hyperparameters\n",
    "\n",
    "We will consider an Image Recognition problem with MNIST dataset (28 x 28 images). The MNIST dataset has a training set of 60,000 images and a test set of 10,000 images. The digits have been sized-normalized and centered in a fixed-size image.\n",
    "It is a good database for people who want to try learning techniques and pattern recognition methods on real-world data while spending minimal efforts on preprocessing and formatting.\n",
    "\n",
    "In this Notebook you will follow two different approaches to tune the hyperparameters:\n",
    "- \"Trial and Error\" approach;\n",
    "- \"Grid Search\" Hyperparameter optimization with Scikit-Learn wrapper;"
   ]
  },
  {
   "cell_type": "markdown",
   "metadata": {},
   "source": [
    "### Data Preparation"
   ]
  },
  {
   "cell_type": "code",
   "execution_count": 1,
   "metadata": {},
   "outputs": [
    {
     "name": "stdout",
     "output_type": "stream",
     "text": [
      "Downloading data from https://storage.googleapis.com/tensorflow/tf-keras-datasets/mnist.npz\n",
      "11493376/11490434 [==============================] - 4s 0us/step\n"
     ]
    }
   ],
   "source": [
    "from keras.datasets import mnist\n",
    "\n",
    "(train_images, train_labels), (test_images, test_labels) = mnist.load_data() # train_x, train_y, test_x, test_y"
   ]
  },
  {
   "cell_type": "code",
   "execution_count": 2,
   "metadata": {},
   "outputs": [],
   "source": [
    "train_images = train_images.reshape((60000, 28 * 28))\n",
    "train_images = train_images.astype('float32') / 255\n",
    "\n",
    "test_images = test_images.reshape((10000, 28 * 28))\n",
    "test_images = test_images.astype('float32') / 255"
   ]
  },
  {
   "cell_type": "code",
   "execution_count": 3,
   "metadata": {},
   "outputs": [],
   "source": [
    "from keras.utils import to_categorical\n",
    "\n",
    "train_labels = to_categorical(train_labels)\n",
    "test_labels = to_categorical(test_labels)"
   ]
  },
  {
   "cell_type": "code",
   "execution_count": 4,
   "metadata": {},
   "outputs": [],
   "source": [
    "split_size = int(train_images.shape[0]*0.7)\n",
    "\n",
    "train_images, val_images = train_images[:split_size], train_images[split_size:]\n",
    "train_labels, val_labels = train_labels[:split_size], train_labels[split_size:]"
   ]
  },
  {
   "cell_type": "markdown",
   "metadata": {},
   "source": [
    "### Building the Model\n",
    "\n",
    "Build a neural network with 3 layers, input, hidden and output:\n",
    "- Dense layer with 50 hidden units and an appropriate activation function;\n",
    "- Dense layer with 10 output units and an appropriate activation function;\n",
    "\n",
    "First we define some useful parameters:"
   ]
  },
  {
   "cell_type": "code",
   "execution_count": 5,
   "metadata": {},
   "outputs": [],
   "source": [
    "# define vars\n",
    "input_num_units = 784\n",
    "hidden_num_units = 50\n",
    "output_num_units = 10\n",
    "\n",
    "epochs = 5\n",
    "batch_size = 128"
   ]
  },
  {
   "cell_type": "markdown",
   "metadata": {},
   "source": [
    "** Import Keras packages that you think may need.**"
   ]
  },
  {
   "cell_type": "code",
   "execution_count": 8,
   "metadata": {},
   "outputs": [],
   "source": [
    "from keras import models\n",
    "from keras import layers\n",
    "from keras import optimizers"
   ]
  },
  {
   "cell_type": "markdown",
   "metadata": {},
   "source": [
    "** Create the model as described above. **"
   ]
  },
  {
   "cell_type": "code",
   "execution_count": 9,
   "metadata": {},
   "outputs": [
    {
     "name": "stdout",
     "output_type": "stream",
     "text": [
      "Model: \"sequential\"\n",
      "_________________________________________________________________\n",
      "Layer (type)                 Output Shape              Param #   \n",
      "=================================================================\n",
      "dense (Dense)                (None, 50)                39250     \n",
      "_________________________________________________________________\n",
      "dense_1 (Dense)              (None, 10)                510       \n",
      "=================================================================\n",
      "Total params: 39,760\n",
      "Trainable params: 39,760\n",
      "Non-trainable params: 0\n",
      "_________________________________________________________________\n"
     ]
    }
   ],
   "source": [
    "# create model\n",
    "model = models.Sequential()\n",
    "model.add(layers.Dense(units=hidden_num_units, activation='relu', input_shape=(input_num_units,)))\n",
    "model.add(layers.Dense(units=output_num_units, activation='softmax'))\n",
    "\n",
    "model.summary()"
   ]
  },
  {
   "cell_type": "markdown",
   "metadata": {},
   "source": [
    "** Configure the model with an optimizer and an appropriate loss function. **"
   ]
  },
  {
   "cell_type": "code",
   "execution_count": 10,
   "metadata": {},
   "outputs": [],
   "source": [
    "model.compile(loss='categorical_crossentropy', optimizer='adam', metrics=['accuracy'])"
   ]
  },
  {
   "cell_type": "markdown",
   "metadata": {},
   "source": [
    "** Train the model (also with the validation set). **"
   ]
  },
  {
   "cell_type": "code",
   "execution_count": 11,
   "metadata": {},
   "outputs": [
    {
     "name": "stdout",
     "output_type": "stream",
     "text": [
      "Epoch 1/5\n",
      "329/329 [==============================] - 1s 2ms/step - loss: 0.9009 - accuracy: 0.7467 - val_loss: 0.2897 - val_accuracy: 0.9168\n",
      "Epoch 2/5\n",
      "329/329 [==============================] - 0s 1ms/step - loss: 0.2673 - accuracy: 0.9251 - val_loss: 0.2406 - val_accuracy: 0.9317\n",
      "Epoch 3/5\n",
      "329/329 [==============================] - 0s 1ms/step - loss: 0.2122 - accuracy: 0.9394 - val_loss: 0.2032 - val_accuracy: 0.9417\n",
      "Epoch 4/5\n",
      "329/329 [==============================] - 0s 1ms/step - loss: 0.1779 - accuracy: 0.9495 - val_loss: 0.1775 - val_accuracy: 0.9508\n",
      "Epoch 5/5\n",
      "329/329 [==============================] - 0s 1ms/step - loss: 0.1488 - accuracy: 0.9573 - val_loss: 0.1657 - val_accuracy: 0.9528\n"
     ]
    }
   ],
   "source": [
    "trained_model = model.fit(train_images, train_labels, epochs=epochs, batch_size=batch_size, validation_data=(val_images, val_labels))"
   ]
  },
  {
   "cell_type": "markdown",
   "metadata": {},
   "source": [
    "### Model Evaluation"
   ]
  },
  {
   "cell_type": "markdown",
   "metadata": {},
   "source": [
    "** Test the model: get some prediction and evaluate the model. **"
   ]
  },
  {
   "cell_type": "code",
   "execution_count": 12,
   "metadata": {},
   "outputs": [
    {
     "name": "stderr",
     "output_type": "stream",
     "text": [
      "/Users/batukaanozen/opt/anaconda3/lib/python3.8/site-packages/tensorflow/python/keras/engine/sequential.py:450: UserWarning: `model.predict_classes()` is deprecated and will be removed after 2021-01-01. Please use instead:* `np.argmax(model.predict(x), axis=-1)`,   if your model does multi-class classification   (e.g. if it uses a `softmax` last-layer activation).* `(model.predict(x) > 0.5).astype(\"int32\")`,   if your model does binary classification   (e.g. if it uses a `sigmoid` last-layer activation).\n",
      "  warnings.warn('`model.predict_classes()` is deprecated and '\n"
     ]
    }
   ],
   "source": [
    "pred = model.predict_classes(test_images)"
   ]
  },
  {
   "cell_type": "code",
   "execution_count": 13,
   "metadata": {},
   "outputs": [
    {
     "name": "stdout",
     "output_type": "stream",
     "text": [
      "313/313 [==============================] - 0s 618us/step - loss: 0.1544 - accuracy: 0.9554\n"
     ]
    }
   ],
   "source": [
    "test_loss, test_acc = model.evaluate(test_images, test_labels) "
   ]
  },
  {
   "cell_type": "code",
   "execution_count": null,
   "metadata": {},
   "outputs": [],
   "source": [
    "print('test_acc:', test_acc)"
   ]
  },
  {
   "cell_type": "markdown",
   "metadata": {},
   "source": [
    "Let's try to improve it by tuning some Hyperparameters.\n",
    "\n",
    "### Hyperparameters Optimization - Trial and Error\n",
    "\n",
    "Some important parameters to look out while optimizing neural networks are:\n",
    "- Type of architecture;\n",
    "- Number of layers;\n",
    "- Number of neurons per layer;\n",
    "- Regularization parameters;\n",
    "- Learning rate;\n",
    "- Type of optimization/backpropagation technique;\n",
    "- Dropout rate;\n",
    "- Weight sharing;"
   ]
  },
  {
   "cell_type": "markdown",
   "metadata": {},
   "source": [
    "Now repeat all the previous steps (train, test etc..) but tuning the following parameters:\n",
    "1. Make the model \"wide\": Increase the number of neurons in the hidden layer; \n",
    "2. Make the model \"deep\": Increase the number of hidden layers neurons each;\n",
    "3. Dropout to deal with Overfitting;\n",
    "4. Increase Epochs to 50;\n",
    "5. Both \"wide\" and \"deep\": more hidden layers, each with more than 50 neurons\n",
    "\n",
    "After every step, analyse your results and draw some conclusions."
   ]
  },
  {
   "cell_type": "markdown",
   "metadata": {},
   "source": [
    "### 1. Make the model \"wide\": increase number of neurons in the hidden layer."
   ]
  },
  {
   "cell_type": "markdown",
   "metadata": {},
   "source": [
    "** Define the new variables. **"
   ]
  },
  {
   "cell_type": "code",
   "execution_count": 14,
   "metadata": {},
   "outputs": [],
   "source": [
    "input_num_units = 784\n",
    "hidden_num_units = 500\n",
    "output_num_units = 10\n",
    "epochs = 5\n",
    "batch_size = 128"
   ]
  },
  {
   "cell_type": "markdown",
   "metadata": {},
   "source": [
    "** Build the network. **"
   ]
  },
  {
   "cell_type": "code",
   "execution_count": 15,
   "metadata": {},
   "outputs": [],
   "source": [
    "model_1  = models.Sequential()\n",
    "model_1.add(layers.Dense(units=hidden_num_units, activation='relu', input_shape=(input_num_units,)))\n",
    "model_1.add(layers.Dense(units=output_num_units, activation='softmax'))"
   ]
  },
  {
   "cell_type": "markdown",
   "metadata": {},
   "source": [
    "** Configure the network. **"
   ]
  },
  {
   "cell_type": "code",
   "execution_count": 16,
   "metadata": {},
   "outputs": [],
   "source": [
    "model_1.compile(loss='categorical_crossentropy', optimizer='adam', metrics=['accuracy'])"
   ]
  },
  {
   "cell_type": "markdown",
   "metadata": {},
   "source": [
    "** Train the network. **"
   ]
  },
  {
   "cell_type": "code",
   "execution_count": 17,
   "metadata": {},
   "outputs": [
    {
     "name": "stdout",
     "output_type": "stream",
     "text": [
      "Epoch 1/5\n",
      "329/329 [==============================] - 1s 3ms/step - loss: 0.5448 - accuracy: 0.8550 - val_loss: 0.1776 - val_accuracy: 0.9487\n",
      "Epoch 2/5\n",
      "329/329 [==============================] - 1s 3ms/step - loss: 0.1385 - accuracy: 0.9607 - val_loss: 0.1260 - val_accuracy: 0.9636\n",
      "Epoch 3/5\n",
      "329/329 [==============================] - 1s 3ms/step - loss: 0.0838 - accuracy: 0.9767 - val_loss: 0.1054 - val_accuracy: 0.9700\n",
      "Epoch 4/5\n",
      "329/329 [==============================] - 1s 3ms/step - loss: 0.0570 - accuracy: 0.9841 - val_loss: 0.0946 - val_accuracy: 0.9731\n",
      "Epoch 5/5\n",
      "329/329 [==============================] - 1s 3ms/step - loss: 0.0414 - accuracy: 0.9890 - val_loss: 0.0944 - val_accuracy: 0.9717\n"
     ]
    }
   ],
   "source": [
    "trained_model_1 = model_1.fit(train_images, train_labels, epochs=epochs, batch_size=batch_size, validation_data=(val_images, val_labels))"
   ]
  },
  {
   "cell_type": "markdown",
   "metadata": {},
   "source": [
    "Considerations: what can you notice from these results? Is your model performing better than before?"
   ]
  },
  {
   "cell_type": "markdown",
   "metadata": {},
   "source": []
  },
  {
   "cell_type": "markdown",
   "metadata": {},
   "source": [
    "### 2. Make the model \"deep\": Increase the number of hidden layers."
   ]
  },
  {
   "cell_type": "markdown",
   "metadata": {},
   "source": [
    "** Define the new variables. **"
   ]
  },
  {
   "cell_type": "code",
   "execution_count": 19,
   "metadata": {},
   "outputs": [],
   "source": [
    "input_num_units = 784\n",
    "hidden1_num_units = 50\n",
    "hidden2_num_units = 50\n",
    "hidden3_num_units = 50\n",
    "hidden4_num_units = 50\n",
    "hidden5_num_units = 50\n",
    "output_num_units = 10\n",
    "\n",
    "epochs = 5\n",
    "batch_size = 128"
   ]
  },
  {
   "cell_type": "markdown",
   "metadata": {},
   "source": [
    "** Build the network. **"
   ]
  },
  {
   "cell_type": "code",
   "execution_count": 20,
   "metadata": {},
   "outputs": [
    {
     "name": "stdout",
     "output_type": "stream",
     "text": [
      "Model: \"sequential_3\"\n",
      "_________________________________________________________________\n",
      "Layer (type)                 Output Shape              Param #   \n",
      "=================================================================\n",
      "dense_4 (Dense)              (None, 50)                39250     \n",
      "_________________________________________________________________\n",
      "dense_5 (Dense)              (None, 50)                2550      \n",
      "_________________________________________________________________\n",
      "dense_6 (Dense)              (None, 50)                2550      \n",
      "_________________________________________________________________\n",
      "dense_7 (Dense)              (None, 50)                2550      \n",
      "_________________________________________________________________\n",
      "dense_8 (Dense)              (None, 50)                2550      \n",
      "_________________________________________________________________\n",
      "dense_9 (Dense)              (None, 10)                510       \n",
      "=================================================================\n",
      "Total params: 49,960\n",
      "Trainable params: 49,960\n",
      "Non-trainable params: 0\n",
      "_________________________________________________________________\n"
     ]
    }
   ],
   "source": [
    "model_2 = models.Sequential()\n",
    "\n",
    "model_2.add(layers.Dense(units=hidden1_num_units, input_shape=(input_num_units,), activation='relu'))\n",
    "model_2.add(layers.Dense(units=hidden2_num_units, activation='relu'))\n",
    "model_2.add(layers.Dense(units=hidden3_num_units, activation='relu'))\n",
    "model_2.add(layers.Dense(units=hidden4_num_units, activation='relu'))\n",
    "model_2.add(layers.Dense(units=hidden5_num_units, activation='relu'))\n",
    "\n",
    "model_2.add(layers.Dense(units=output_num_units, activation='softmax'))\n",
    "\n",
    "model_2.summary()"
   ]
  },
  {
   "cell_type": "markdown",
   "metadata": {},
   "source": [
    "** Configure the network. **"
   ]
  },
  {
   "cell_type": "code",
   "execution_count": 21,
   "metadata": {},
   "outputs": [],
   "source": [
    "model_2.compile(loss='categorical_crossentropy', optimizer='adam', metrics=['accuracy'])"
   ]
  },
  {
   "cell_type": "markdown",
   "metadata": {},
   "source": [
    "** Train the network. **"
   ]
  },
  {
   "cell_type": "code",
   "execution_count": 22,
   "metadata": {},
   "outputs": [
    {
     "name": "stdout",
     "output_type": "stream",
     "text": [
      "Epoch 1/5\n",
      "329/329 [==============================] - 1s 2ms/step - loss: 1.0094 - accuracy: 0.6754 - val_loss: 0.2473 - val_accuracy: 0.9262\n",
      "Epoch 2/5\n",
      "329/329 [==============================] - 1s 2ms/step - loss: 0.2117 - accuracy: 0.9365 - val_loss: 0.1868 - val_accuracy: 0.9429\n",
      "Epoch 3/5\n",
      "329/329 [==============================] - 1s 2ms/step - loss: 0.1512 - accuracy: 0.9556 - val_loss: 0.1465 - val_accuracy: 0.9575\n",
      "Epoch 4/5\n",
      "329/329 [==============================] - 1s 2ms/step - loss: 0.1225 - accuracy: 0.9627 - val_loss: 0.1428 - val_accuracy: 0.9576\n",
      "Epoch 5/5\n",
      "329/329 [==============================] - 1s 2ms/step - loss: 0.1026 - accuracy: 0.9688 - val_loss: 0.1548 - val_accuracy: 0.9554\n"
     ]
    }
   ],
   "source": [
    "trained_model_2 = model_2.fit(train_images, train_labels, epochs=epochs, batch_size=batch_size, validation_data=(val_images, val_labels))"
   ]
  },
  {
   "cell_type": "markdown",
   "metadata": {},
   "source": [
    "Considerations: what can you notice from these results? Is your model performing better than before?"
   ]
  },
  {
   "cell_type": "markdown",
   "metadata": {},
   "source": []
  },
  {
   "cell_type": "markdown",
   "metadata": {},
   "source": [
    "### 3. Dropout"
   ]
  },
  {
   "cell_type": "markdown",
   "metadata": {},
   "source": [
    "** Define the new variables, remember to define also the dropout_ratio. **"
   ]
  },
  {
   "cell_type": "code",
   "execution_count": 24,
   "metadata": {},
   "outputs": [],
   "source": [
    "input_num_units = 784\n",
    "hidden1_num_units = 50\n",
    "hidden2_num_units = 50\n",
    "hidden3_num_units = 50\n",
    "hidden4_num_units = 50\n",
    "hidden5_num_units = 50\n",
    "output_num_units = 10\n",
    "\n",
    "epochs = 5\n",
    "batch_size = 128\n",
    "\n",
    "dropout_ratio = 0.2"
   ]
  },
  {
   "cell_type": "markdown",
   "metadata": {},
   "source": [
    "** Build the network. **"
   ]
  },
  {
   "cell_type": "code",
   "execution_count": 25,
   "metadata": {},
   "outputs": [
    {
     "name": "stdout",
     "output_type": "stream",
     "text": [
      "Model: \"sequential_5\"\n",
      "_________________________________________________________________\n",
      "Layer (type)                 Output Shape              Param #   \n",
      "=================================================================\n",
      "dense_11 (Dense)             (None, 50)                39250     \n",
      "_________________________________________________________________\n",
      "dropout (Dropout)            (None, 50)                0         \n",
      "_________________________________________________________________\n",
      "dense_12 (Dense)             (None, 50)                2550      \n",
      "_________________________________________________________________\n",
      "dropout_1 (Dropout)          (None, 50)                0         \n",
      "_________________________________________________________________\n",
      "dense_13 (Dense)             (None, 50)                2550      \n",
      "_________________________________________________________________\n",
      "dropout_2 (Dropout)          (None, 50)                0         \n",
      "_________________________________________________________________\n",
      "dense_14 (Dense)             (None, 50)                2550      \n",
      "_________________________________________________________________\n",
      "dropout_3 (Dropout)          (None, 50)                0         \n",
      "_________________________________________________________________\n",
      "dense_15 (Dense)             (None, 50)                2550      \n",
      "_________________________________________________________________\n",
      "dropout_4 (Dropout)          (None, 50)                0         \n",
      "_________________________________________________________________\n",
      "dense_16 (Dense)             (None, 10)                510       \n",
      "=================================================================\n",
      "Total params: 49,960\n",
      "Trainable params: 49,960\n",
      "Non-trainable params: 0\n",
      "_________________________________________________________________\n"
     ]
    }
   ],
   "source": [
    "model_3 = models.Sequential()\n",
    "\n",
    "model_3.add(layers.Dense(units=hidden1_num_units, input_shape=(input_num_units,), activation='relu'))\n",
    "model_3.add(layers.Dropout(dropout_ratio))\n",
    "model_3.add(layers.Dense(units=hidden2_num_units, activation='relu'))\n",
    "model_3.add(layers.Dropout(dropout_ratio))\n",
    "model_3.add(layers.Dense(units=hidden3_num_units, activation='relu'))\n",
    "model_3.add(layers.Dropout(dropout_ratio))\n",
    "model_3.add(layers.Dense(units=hidden4_num_units, activation='relu'))\n",
    "model_3.add(layers.Dropout(dropout_ratio))\n",
    "model_3.add(layers.Dense(units=hidden5_num_units, activation='relu'))\n",
    "model_3.add(layers.Dropout(dropout_ratio))\n",
    "\n",
    "model_3.add(layers.Dense(output_num_units, activation='softmax'))\n",
    "\n",
    "model_3.summary()"
   ]
  },
  {
   "cell_type": "markdown",
   "metadata": {},
   "source": [
    "** Configure the network. **"
   ]
  },
  {
   "cell_type": "code",
   "execution_count": 26,
   "metadata": {},
   "outputs": [],
   "source": [
    "model_3.compile(loss='categorical_crossentropy', optimizer='adam', metrics=['accuracy'])"
   ]
  },
  {
   "cell_type": "markdown",
   "metadata": {},
   "source": [
    "** Train the network. **"
   ]
  },
  {
   "cell_type": "code",
   "execution_count": 27,
   "metadata": {},
   "outputs": [
    {
     "name": "stdout",
     "output_type": "stream",
     "text": [
      "Epoch 1/5\n",
      "329/329 [==============================] - 1s 2ms/step - loss: 1.5334 - accuracy: 0.4580 - val_loss: 0.3088 - val_accuracy: 0.9132\n",
      "Epoch 2/5\n",
      "329/329 [==============================] - 1s 2ms/step - loss: 0.4697 - accuracy: 0.8652 - val_loss: 0.2496 - val_accuracy: 0.9321\n",
      "Epoch 3/5\n",
      "329/329 [==============================] - 1s 2ms/step - loss: 0.3726 - accuracy: 0.9019 - val_loss: 0.2280 - val_accuracy: 0.9362\n",
      "Epoch 4/5\n",
      "329/329 [==============================] - 1s 2ms/step - loss: 0.3137 - accuracy: 0.9157 - val_loss: 0.1890 - val_accuracy: 0.9484\n",
      "Epoch 5/5\n",
      "329/329 [==============================] - 1s 2ms/step - loss: 0.2766 - accuracy: 0.9268 - val_loss: 0.1871 - val_accuracy: 0.9493\n"
     ]
    }
   ],
   "source": [
    "trained_model_3 = model_3.fit(train_images, train_labels, epochs=epochs, batch_size=batch_size, validation_data=(val_images, val_labels))"
   ]
  },
  {
   "cell_type": "markdown",
   "metadata": {},
   "source": [
    "Considerations: what can you notice from these results? Is your model improving?"
   ]
  },
  {
   "cell_type": "markdown",
   "metadata": {},
   "source": [
    "slightly"
   ]
  },
  {
   "cell_type": "markdown",
   "metadata": {},
   "source": [
    "### 4. Increase training Epochs to 50.\n",
    "\n",
    "This will take a while."
   ]
  },
  {
   "cell_type": "markdown",
   "metadata": {},
   "source": [
    "** Define the new variables. **"
   ]
  },
  {
   "cell_type": "code",
   "execution_count": 28,
   "metadata": {},
   "outputs": [],
   "source": [
    "input_num_units = 784\n",
    "hidden1_num_units = 500\n",
    "hidden2_num_units = 500\n",
    "hidden3_num_units = 500\n",
    "hidden4_num_units = 500\n",
    "hidden5_num_units = 500\n",
    "output_num_units = 10\n",
    "\n",
    "epochs = 25\n",
    "batch_size = 128"
   ]
  },
  {
   "cell_type": "markdown",
   "metadata": {},
   "source": [
    "** Build the network. **"
   ]
  },
  {
   "cell_type": "code",
   "execution_count": 29,
   "metadata": {},
   "outputs": [],
   "source": [
    "model_5 = models.Sequential()\n",
    "\n",
    "model_5.add(layers.Dense(units=hidden1_num_units, input_shape=(input_num_units,), activation='relu'))\n",
    "model_5.add(layers.Dropout(0.2))\n",
    "model_5.add(layers.Dense(units=hidden2_num_units,  activation='relu'))\n",
    "model_5.add(layers.Dropout(0.2))\n",
    "model_5.add(layers.Dense(units=hidden3_num_units,  activation='relu'))\n",
    "model_5.add(layers.Dropout(0.2))\n",
    "model_5.add(layers.Dense(units=hidden4_num_units,  activation='relu'))\n",
    "model_5.add(layers.Dropout(0.2))\n",
    "model_5.add(layers.Dense(units=hidden5_num_units, activation='relu'))\n",
    "model_5.add(layers.Dropout(0.2))\n",
    "\n",
    "model_5.add(layers.Dense(units=output_num_units,  activation='softmax'))"
   ]
  },
  {
   "cell_type": "markdown",
   "metadata": {},
   "source": [
    "** Configure the network. **"
   ]
  },
  {
   "cell_type": "code",
   "execution_count": 30,
   "metadata": {},
   "outputs": [],
   "source": [
    "model_5.compile(loss='categorical_crossentropy', optimizer='adam', metrics=['accuracy'])"
   ]
  },
  {
   "cell_type": "markdown",
   "metadata": {},
   "source": [
    "** Train the network. **"
   ]
  },
  {
   "cell_type": "code",
   "execution_count": 31,
   "metadata": {},
   "outputs": [
    {
     "name": "stdout",
     "output_type": "stream",
     "text": [
      "Epoch 1/25\n",
      "329/329 [==============================] - 4s 11ms/step - loss: 0.6507 - accuracy: 0.7845 - val_loss: 0.1546 - val_accuracy: 0.9529\n",
      "Epoch 2/25\n",
      "329/329 [==============================] - 3s 9ms/step - loss: 0.1493 - accuracy: 0.9553 - val_loss: 0.1178 - val_accuracy: 0.9655\n",
      "Epoch 3/25\n",
      "329/329 [==============================] - 3s 10ms/step - loss: 0.1055 - accuracy: 0.9691 - val_loss: 0.1138 - val_accuracy: 0.9674\n",
      "Epoch 4/25\n",
      "329/329 [==============================] - 3s 10ms/step - loss: 0.0968 - accuracy: 0.9725 - val_loss: 0.1034 - val_accuracy: 0.9713\n",
      "Epoch 5/25\n",
      "329/329 [==============================] - 3s 10ms/step - loss: 0.0710 - accuracy: 0.9792 - val_loss: 0.1102 - val_accuracy: 0.9714\n",
      "Epoch 6/25\n",
      "329/329 [==============================] - 3s 9ms/step - loss: 0.0649 - accuracy: 0.9818 - val_loss: 0.1115 - val_accuracy: 0.9720\n",
      "Epoch 7/25\n",
      "329/329 [==============================] - 3s 9ms/step - loss: 0.0655 - accuracy: 0.9813 - val_loss: 0.1124 - val_accuracy: 0.9713\n",
      "Epoch 8/25\n",
      "329/329 [==============================] - 3s 10ms/step - loss: 0.0562 - accuracy: 0.9830 - val_loss: 0.1078 - val_accuracy: 0.9745\n",
      "Epoch 9/25\n",
      "329/329 [==============================] - 3s 10ms/step - loss: 0.0547 - accuracy: 0.9848 - val_loss: 0.1036 - val_accuracy: 0.9755\n",
      "Epoch 10/25\n",
      "329/329 [==============================] - 3s 10ms/step - loss: 0.0416 - accuracy: 0.9883 - val_loss: 0.1107 - val_accuracy: 0.9732\n",
      "Epoch 11/25\n",
      "329/329 [==============================] - 3s 10ms/step - loss: 0.0402 - accuracy: 0.9874 - val_loss: 0.1145 - val_accuracy: 0.9748\n",
      "Epoch 12/25\n",
      "329/329 [==============================] - 3s 10ms/step - loss: 0.0341 - accuracy: 0.9897 - val_loss: 0.1098 - val_accuracy: 0.9753\n",
      "Epoch 13/25\n",
      "329/329 [==============================] - 3s 10ms/step - loss: 0.0345 - accuracy: 0.9903 - val_loss: 0.1093 - val_accuracy: 0.9762\n",
      "Epoch 14/25\n",
      "329/329 [==============================] - 3s 10ms/step - loss: 0.0373 - accuracy: 0.9890 - val_loss: 0.1189 - val_accuracy: 0.9783\n",
      "Epoch 15/25\n",
      "329/329 [==============================] - 4s 11ms/step - loss: 0.0334 - accuracy: 0.9909 - val_loss: 0.1149 - val_accuracy: 0.9757\n",
      "Epoch 16/25\n",
      "329/329 [==============================] - 3s 11ms/step - loss: 0.0280 - accuracy: 0.9918 - val_loss: 0.1225 - val_accuracy: 0.9759\n",
      "Epoch 17/25\n",
      "329/329 [==============================] - 3s 10ms/step - loss: 0.0336 - accuracy: 0.9908 - val_loss: 0.1261 - val_accuracy: 0.9758\n",
      "Epoch 18/25\n",
      "329/329 [==============================] - 3s 10ms/step - loss: 0.0288 - accuracy: 0.9920 - val_loss: 0.1183 - val_accuracy: 0.9759\n",
      "Epoch 19/25\n",
      "329/329 [==============================] - 3s 10ms/step - loss: 0.0258 - accuracy: 0.9928 - val_loss: 0.1184 - val_accuracy: 0.9773\n",
      "Epoch 20/25\n",
      "329/329 [==============================] - 3s 10ms/step - loss: 0.0263 - accuracy: 0.9929 - val_loss: 0.1446 - val_accuracy: 0.9754\n",
      "Epoch 21/25\n",
      "329/329 [==============================] - 3s 10ms/step - loss: 0.0307 - accuracy: 0.9918 - val_loss: 0.1079 - val_accuracy: 0.9771\n",
      "Epoch 22/25\n",
      "329/329 [==============================] - 4s 13ms/step - loss: 0.0244 - accuracy: 0.9936 - val_loss: 0.1327 - val_accuracy: 0.9766\n",
      "Epoch 23/25\n",
      "329/329 [==============================] - 4s 11ms/step - loss: 0.0273 - accuracy: 0.9934 - val_loss: 0.1150 - val_accuracy: 0.9790\n",
      "Epoch 24/25\n",
      "329/329 [==============================] - 4s 11ms/step - loss: 0.0203 - accuracy: 0.9940 - val_loss: 0.1198 - val_accuracy: 0.9787\n",
      "Epoch 25/25\n",
      "329/329 [==============================] - 4s 12ms/step - loss: 0.0210 - accuracy: 0.9943 - val_loss: 0.1406 - val_accuracy: 0.9764\n"
     ]
    }
   ],
   "source": [
    "trained_model_5 = model_5.fit(train_images, train_labels, epochs=epochs, batch_size=batch_size, validation_data=(val_images, val_labels))"
   ]
  },
  {
   "cell_type": "markdown",
   "metadata": {},
   "source": [
    "Considerations: what can you notice from these results? Has the accuracy increased?"
   ]
  },
  {
   "cell_type": "markdown",
   "metadata": {},
   "source": []
  },
  {
   "cell_type": "markdown",
   "metadata": {},
   "source": [
    "### 5. Make the model \"wide\" and \"deep\": more hidden layers, each with more than 50 neurons."
   ]
  },
  {
   "cell_type": "markdown",
   "metadata": {},
   "source": [
    "** Define the new variables.**"
   ]
  },
  {
   "cell_type": "code",
   "execution_count": 44,
   "metadata": {},
   "outputs": [],
   "source": [
    "input_num_units = 784\n",
    "hidden1_num_units = 500\n",
    "hidden2_num_units = 500\n",
    "hidden3_num_units = 500\n",
    "hidden4_num_units = 500\n",
    "hidden5_num_units = 500\n",
    "output_num_units = 10\n",
    "\n",
    "epochs = 25\n",
    "batch_size = 128"
   ]
  },
  {
   "cell_type": "code",
   "execution_count": 45,
   "metadata": {},
   "outputs": [],
   "source": [
    "model_5 = models.Sequential()\n",
    "\n",
    "model_5.add(layers.Dense(units=hidden1_num_units, input_shape=(input_num_units,), activation='relu'))\n",
    "model_5.add(layers.Dropout(0.2))\n",
    "model_5.add(layers.Dense(units=hidden2_num_units,  activation='relu'))\n",
    "model_5.add(layers.Dropout(0.2))\n",
    "model_5.add(layers.Dense(units=hidden3_num_units,  activation='relu'))\n",
    "model_5.add(layers.Dropout(0.2))\n",
    "model_5.add(layers.Dense(units=hidden4_num_units,  activation='relu'))\n",
    "model_5.add(layers.Dropout(0.2))\n",
    "model_5.add(layers.Dense(units=hidden5_num_units, activation='relu'))\n",
    "model_5.add(layers.Dropout(0.2))\n",
    "\n",
    "model_5.add(layers.Dense(units=output_num_units,  activation='softmax'))"
   ]
  },
  {
   "cell_type": "code",
   "execution_count": 46,
   "metadata": {},
   "outputs": [],
   "source": [
    "model_5.compile(loss='categorical_crossentropy', optimizer='adam', metrics=['accuracy'])"
   ]
  },
  {
   "cell_type": "markdown",
   "metadata": {},
   "source": [
    "** Build the network. **"
   ]
  },
  {
   "cell_type": "code",
   "execution_count": 47,
   "metadata": {},
   "outputs": [
    {
     "name": "stdout",
     "output_type": "stream",
     "text": [
      "Epoch 1/25\n",
      "329/329 [==============================] - 4s 11ms/step - loss: 0.6379 - accuracy: 0.7917 - val_loss: 0.1538 - val_accuracy: 0.9533\n",
      "Epoch 2/25\n",
      "329/329 [==============================] - 4s 11ms/step - loss: 0.1572 - accuracy: 0.9540 - val_loss: 0.1258 - val_accuracy: 0.9645\n",
      "Epoch 3/25\n",
      "329/329 [==============================] - 4s 12ms/step - loss: 0.1097 - accuracy: 0.9681 - val_loss: 0.1145 - val_accuracy: 0.9683\n",
      "Epoch 4/25\n",
      "329/329 [==============================] - 4s 12ms/step - loss: 0.0855 - accuracy: 0.9741 - val_loss: 0.1060 - val_accuracy: 0.9702\n",
      "Epoch 5/25\n",
      "329/329 [==============================] - 4s 11ms/step - loss: 0.0766 - accuracy: 0.9774 - val_loss: 0.1082 - val_accuracy: 0.9722\n",
      "Epoch 6/25\n",
      "329/329 [==============================] - 4s 11ms/step - loss: 0.0634 - accuracy: 0.9818 - val_loss: 0.1121 - val_accuracy: 0.9704\n",
      "Epoch 7/25\n",
      "329/329 [==============================] - 3s 11ms/step - loss: 0.0585 - accuracy: 0.9825 - val_loss: 0.1087 - val_accuracy: 0.9731\n",
      "Epoch 8/25\n",
      "329/329 [==============================] - 4s 11ms/step - loss: 0.0569 - accuracy: 0.9834 - val_loss: 0.1066 - val_accuracy: 0.9748\n",
      "Epoch 9/25\n",
      "329/329 [==============================] - 4s 11ms/step - loss: 0.0459 - accuracy: 0.9869 - val_loss: 0.1079 - val_accuracy: 0.9744\n",
      "Epoch 10/25\n",
      "329/329 [==============================] - 4s 11ms/step - loss: 0.0457 - accuracy: 0.9863 - val_loss: 0.1002 - val_accuracy: 0.9764\n",
      "Epoch 11/25\n",
      "329/329 [==============================] - 4s 12ms/step - loss: 0.0374 - accuracy: 0.9889 - val_loss: 0.0978 - val_accuracy: 0.9757\n",
      "Epoch 12/25\n",
      "329/329 [==============================] - 4s 11ms/step - loss: 0.0412 - accuracy: 0.9888 - val_loss: 0.1033 - val_accuracy: 0.9753\n",
      "Epoch 13/25\n",
      "329/329 [==============================] - 3s 10ms/step - loss: 0.0360 - accuracy: 0.9894 - val_loss: 0.1187 - val_accuracy: 0.9762\n",
      "Epoch 14/25\n",
      "329/329 [==============================] - 3s 10ms/step - loss: 0.0300 - accuracy: 0.9909 - val_loss: 0.1242 - val_accuracy: 0.9761\n",
      "Epoch 15/25\n",
      "329/329 [==============================] - 4s 11ms/step - loss: 0.0374 - accuracy: 0.9904 - val_loss: 0.1174 - val_accuracy: 0.9768\n",
      "Epoch 16/25\n",
      "329/329 [==============================] - 4s 11ms/step - loss: 0.0312 - accuracy: 0.9910 - val_loss: 0.1115 - val_accuracy: 0.9752\n",
      "Epoch 17/25\n",
      "329/329 [==============================] - 4s 11ms/step - loss: 0.0312 - accuracy: 0.9912 - val_loss: 0.1230 - val_accuracy: 0.9773\n",
      "Epoch 18/25\n",
      "329/329 [==============================] - 4s 11ms/step - loss: 0.0277 - accuracy: 0.9925 - val_loss: 0.1399 - val_accuracy: 0.9765\n",
      "Epoch 19/25\n",
      "329/329 [==============================] - 4s 11ms/step - loss: 0.0270 - accuracy: 0.9924 - val_loss: 0.1139 - val_accuracy: 0.9769\n",
      "Epoch 20/25\n",
      "329/329 [==============================] - 4s 12ms/step - loss: 0.0262 - accuracy: 0.9926 - val_loss: 0.1379 - val_accuracy: 0.9754\n",
      "Epoch 21/25\n",
      "329/329 [==============================] - 4s 12ms/step - loss: 0.0311 - accuracy: 0.9925 - val_loss: 0.1333 - val_accuracy: 0.9767\n",
      "Epoch 22/25\n",
      "329/329 [==============================] - 4s 12ms/step - loss: 0.0291 - accuracy: 0.9930 - val_loss: 0.1290 - val_accuracy: 0.9786\n",
      "Epoch 23/25\n",
      "329/329 [==============================] - 4s 12ms/step - loss: 0.0276 - accuracy: 0.9922 - val_loss: 0.1150 - val_accuracy: 0.9796\n",
      "Epoch 24/25\n",
      "329/329 [==============================] - 4s 12ms/step - loss: 0.0239 - accuracy: 0.9939 - val_loss: 0.1429 - val_accuracy: 0.9762\n",
      "Epoch 25/25\n",
      "329/329 [==============================] - 4s 12ms/step - loss: 0.0334 - accuracy: 0.9923 - val_loss: 0.1242 - val_accuracy: 0.9788\n"
     ]
    }
   ],
   "source": [
    "trained_model_5 = model_5.fit(train_images, train_labels, epochs=epochs, batch_size=batch_size, validation_data=(val_images, val_labels))"
   ]
  },
  {
   "cell_type": "markdown",
   "metadata": {},
   "source": [
    "** Configure the network. **"
   ]
  },
  {
   "cell_type": "code",
   "execution_count": 48,
   "metadata": {},
   "outputs": [
    {
     "name": "stderr",
     "output_type": "stream",
     "text": [
      "/Users/batukaanozen/opt/anaconda3/lib/python3.8/site-packages/tensorflow/python/keras/engine/sequential.py:450: UserWarning: `model.predict_classes()` is deprecated and will be removed after 2021-01-01. Please use instead:* `np.argmax(model.predict(x), axis=-1)`,   if your model does multi-class classification   (e.g. if it uses a `softmax` last-layer activation).* `(model.predict(x) > 0.5).astype(\"int32\")`,   if your model does binary classification   (e.g. if it uses a `sigmoid` last-layer activation).\n",
      "  warnings.warn('`model.predict_classes()` is deprecated and '\n"
     ]
    },
    {
     "name": "stdout",
     "output_type": "stream",
     "text": [
      "[7 2 1 ... 4 5 6]\n"
     ]
    }
   ],
   "source": [
    "pred_final = model_5.predict_classes(test_images)\n",
    "print(pred_final)"
   ]
  },
  {
   "cell_type": "markdown",
   "metadata": {},
   "source": [
    "** Train the network. Use 25 epochs if 50 takes too long. **"
   ]
  },
  {
   "cell_type": "code",
   "execution_count": 49,
   "metadata": {},
   "outputs": [
    {
     "name": "stdout",
     "output_type": "stream",
     "text": [
      "313/313 [==============================] - 1s 2ms/step - loss: 0.0987 - accuracy: 0.9806\n"
     ]
    }
   ],
   "source": [
    "test_loss_final, test_acc_final = model_5.evaluate(test_images, test_labels) "
   ]
  },
  {
   "cell_type": "markdown",
   "metadata": {},
   "source": [
    "Considerations: what do you think about your final model?\n",
    "It seems that we obtained our final solution model. Let's evaluate it with some predictions."
   ]
  },
  {
   "cell_type": "markdown",
   "metadata": {},
   "source": []
  },
  {
   "cell_type": "markdown",
   "metadata": {},
   "source": [
    "** Make some predictions and Evaluate the network. **"
   ]
  },
  {
   "cell_type": "code",
   "execution_count": 50,
   "metadata": {},
   "outputs": [
    {
     "name": "stdout",
     "output_type": "stream",
     "text": [
      "test_acc: 0.9805999994277954\n"
     ]
    }
   ],
   "source": [
    "print('test_acc:', test_acc_final)"
   ]
  },
  {
   "cell_type": "markdown",
   "metadata": {},
   "source": [
    "### Hyperparameters Optimization - Grid Search\n",
    "\n",
    "Instead of proceeding with a \"trial and error\" approach we can also use GridSearch to combine all the hyperparameters we want to tune, or some of them. What you have to do is to use Sequential() model in Keras as a part of the Scikit-Learn workflow via the wrappers. \n",
    "Check out how this workflow works.\n",
    "\n",
    "\n",
    "Please note that without GPU is extremely time consuming to tune all the hyperparameters in one shoot, by using an appropriate number of epochs. For this reason, in this example the idea is for you to understand how you can use GridSerach with Keras Model, but you will probably not be able to obtain an excellent model.\n",
    "\n",
    "For this reason, try to tune the number of neurons in the hidden layers (more than one hidden layer) with just 5-10 epochs."
   ]
  },
  {
   "cell_type": "markdown",
   "metadata": {},
   "source": [
    "** Import GridSearchCV and KerasClassifier.**"
   ]
  },
  {
   "cell_type": "code",
   "execution_count": 51,
   "metadata": {},
   "outputs": [],
   "source": [
    "import numpy\n",
    "from sklearn.model_selection import GridSearchCV\n",
    "from keras.wrappers.scikit_learn import KerasClassifier\n",
    "from keras.constraints import maxnorm"
   ]
  },
  {
   "cell_type": "code",
   "execution_count": 52,
   "metadata": {},
   "outputs": [],
   "source": [
    "input_num_units = 784\n",
    "output_num_units = 10"
   ]
  },
  {
   "cell_type": "markdown",
   "metadata": {},
   "source": [
    "** Create a function called `create_model` in which you build your KerasClassifier with number of hidden units equal to a general variable (you can call this `neurons`). Inside the function you should then also compile the model.**"
   ]
  },
  {
   "cell_type": "code",
   "execution_count": 53,
   "metadata": {},
   "outputs": [],
   "source": [
    "# Function to create model, required for KerasClassifier\n",
    "def create_model(neurons=1):\n",
    "  \n",
    "    model = models.Sequential()  \n",
    "    model.add(layers.Dense(units=neurons, input_shape=(input_num_units,), activation='relu'))\n",
    "    model.add(layers.Dropout(0.2))\n",
    "    model.add(layers.Dense(units=neurons, activation='relu'))\n",
    "    model.add(layers.Dropout(0.2))\n",
    "    model.add(layers.Dense(units=neurons, activation='relu'))\n",
    "    model.add(layers.Dropout(0.2))\n",
    "    model.add(layers.Dense(units=neurons, activation='relu'))\n",
    "    model.add(layers.Dropout(0.2))\n",
    "    model.add(layers.Dense(units=neurons, activation='relu'))\n",
    "    model.add(layers.Dropout(0.2))\n",
    "    model.add(layers.Dense(units=output_num_units, activation='softmax'))\n",
    "    model.compile(loss='categorical_crossentropy', optimizer='adam', metrics=['accuracy'])\n",
    "    return model"
   ]
  },
  {
   "cell_type": "markdown",
   "metadata": {},
   "source": [
    "** Create a model wrapper.**"
   ]
  },
  {
   "cell_type": "code",
   "execution_count": 54,
   "metadata": {},
   "outputs": [],
   "source": [
    "# Fix random seed for reproducibility\n",
    "seed = 7\n",
    "numpy.random.seed(seed)\n"
   ]
  },
  {
   "cell_type": "markdown",
   "metadata": {},
   "source": [
    "** Create a dictionary of parameters grid for the number of neurons in the hidden layer.**"
   ]
  },
  {
   "cell_type": "code",
   "execution_count": 55,
   "metadata": {},
   "outputs": [],
   "source": [
    "model = KerasClassifier(build_fn=create_model, epochs=5, batch_size=32, verbose=1)"
   ]
  },
  {
   "cell_type": "markdown",
   "metadata": {},
   "source": [
    "** Grid Search: use `GridSearchCV`with the model you have obtained from the wrapper as estimator and the dictionary you have just created as param_grid.**"
   ]
  },
  {
   "cell_type": "code",
   "execution_count": 56,
   "metadata": {},
   "outputs": [],
   "source": [
    "neurons = [50, 100, 250, 500]\n",
    "param_grid = dict(neurons=neurons) "
   ]
  },
  {
   "cell_type": "markdown",
   "metadata": {},
   "source": [
    "** Fit the result from the Grid Search, call your result `grid_result`. **"
   ]
  },
  {
   "cell_type": "code",
   "execution_count": 59,
   "metadata": {},
   "outputs": [
    {
     "name": "stdout",
     "output_type": "stream",
     "text": [
      "Epoch 1/5\n",
      "1050/1050 [==============================] - 2s 2ms/step - loss: 1.3048 - accuracy: 0.5361 - val_loss: 0.2906 - val_accuracy: 0.9190\n",
      "Epoch 2/5\n",
      "1050/1050 [==============================] - 1s 1ms/step - loss: 0.4349 - accuracy: 0.8821 - val_loss: 0.2359 - val_accuracy: 0.9364\n",
      "Epoch 3/5\n",
      "1050/1050 [==============================] - 2s 2ms/step - loss: 0.3482 - accuracy: 0.9081 - val_loss: 0.2125 - val_accuracy: 0.9435\n",
      "Epoch 4/5\n",
      "1050/1050 [==============================] - 2s 1ms/step - loss: 0.2944 - accuracy: 0.9215 - val_loss: 0.1874 - val_accuracy: 0.9494\n",
      "Epoch 5/5\n",
      "1050/1050 [==============================] - 2s 1ms/step - loss: 0.2652 - accuracy: 0.9297 - val_loss: 0.1914 - val_accuracy: 0.9492\n",
      "263/263 [==============================] - 0s 1ms/step - loss: 0.1868 - accuracy: 0.9548\n",
      "Epoch 1/5\n",
      "1050/1050 [==============================] - 2s 2ms/step - loss: 1.2749 - accuracy: 0.5413 - val_loss: 0.3102 - val_accuracy: 0.9155\n",
      "Epoch 2/5\n",
      "1050/1050 [==============================] - 1s 1ms/step - loss: 0.4225 - accuracy: 0.8865 - val_loss: 0.2494 - val_accuracy: 0.9318\n",
      "Epoch 3/5\n",
      "1050/1050 [==============================] - 1s 1ms/step - loss: 0.3245 - accuracy: 0.9143 - val_loss: 0.2088 - val_accuracy: 0.9415\n",
      "Epoch 4/5\n",
      "1050/1050 [==============================] - 2s 2ms/step - loss: 0.2880 - accuracy: 0.9253 - val_loss: 0.1977 - val_accuracy: 0.9457\n",
      "Epoch 5/5\n",
      "1050/1050 [==============================] - 1s 1ms/step - loss: 0.2649 - accuracy: 0.9308 - val_loss: 0.1797 - val_accuracy: 0.9497\n",
      "263/263 [==============================] - 0s 948us/step - loss: 0.2006 - accuracy: 0.9475\n",
      "Epoch 1/5\n",
      "1050/1050 [==============================] - 2s 1ms/step - loss: 1.2904 - accuracy: 0.5437 - val_loss: 0.3007 - val_accuracy: 0.9143\n",
      "Epoch 2/5\n",
      "1050/1050 [==============================] - 1s 1ms/step - loss: 0.4224 - accuracy: 0.8857 - val_loss: 0.2261 - val_accuracy: 0.9378\n",
      "Epoch 3/5\n",
      "1050/1050 [==============================] - 2s 2ms/step - loss: 0.3389 - accuracy: 0.9099 - val_loss: 0.2040 - val_accuracy: 0.9432\n",
      "Epoch 4/5\n",
      "1050/1050 [==============================] - 1s 1ms/step - loss: 0.2978 - accuracy: 0.9208 - val_loss: 0.1904 - val_accuracy: 0.9469\n",
      "Epoch 5/5\n",
      "1050/1050 [==============================] - 1s 1ms/step - loss: 0.2724 - accuracy: 0.9277 - val_loss: 0.1901 - val_accuracy: 0.9501\n",
      "263/263 [==============================] - 0s 1ms/step - loss: 0.1926 - accuracy: 0.9458\n",
      "Epoch 1/5\n",
      "1050/1050 [==============================] - 2s 2ms/step - loss: 1.3463 - accuracy: 0.5171 - val_loss: 0.2691 - val_accuracy: 0.9247\n",
      "Epoch 2/5\n",
      "1050/1050 [==============================] - 2s 2ms/step - loss: 0.4378 - accuracy: 0.8822 - val_loss: 0.2328 - val_accuracy: 0.9348\n",
      "Epoch 3/5\n",
      "1050/1050 [==============================] - 2s 1ms/step - loss: 0.3443 - accuracy: 0.9120 - val_loss: 0.2181 - val_accuracy: 0.9397\n",
      "Epoch 4/5\n",
      "1050/1050 [==============================] - 2s 2ms/step - loss: 0.2930 - accuracy: 0.9242 - val_loss: 0.1981 - val_accuracy: 0.9450\n",
      "Epoch 5/5\n",
      "1050/1050 [==============================] - 2s 2ms/step - loss: 0.2715 - accuracy: 0.9310 - val_loss: 0.2067 - val_accuracy: 0.9427\n",
      "263/263 [==============================] - 0s 993us/step - loss: 0.2213 - accuracy: 0.9383\n",
      "Epoch 1/5\n",
      "1050/1050 [==============================] - 2s 2ms/step - loss: 1.2872 - accuracy: 0.5498 - val_loss: 0.2802 - val_accuracy: 0.9199\n",
      "Epoch 2/5\n",
      "1050/1050 [==============================] - 1s 1ms/step - loss: 0.4242 - accuracy: 0.8858 - val_loss: 0.2227 - val_accuracy: 0.9379\n",
      "Epoch 3/5\n",
      "1050/1050 [==============================] - 2s 2ms/step - loss: 0.3468 - accuracy: 0.9092 - val_loss: 0.2165 - val_accuracy: 0.9411\n",
      "Epoch 4/5\n",
      "1050/1050 [==============================] - 1s 1ms/step - loss: 0.2984 - accuracy: 0.9236 - val_loss: 0.1949 - val_accuracy: 0.9492\n",
      "Epoch 5/5\n",
      "1050/1050 [==============================] - 1s 1ms/step - loss: 0.2759 - accuracy: 0.9288 - val_loss: 0.1771 - val_accuracy: 0.9506\n",
      "263/263 [==============================] - 0s 990us/step - loss: 0.1821 - accuracy: 0.9490\n",
      "Epoch 1/5\n",
      "1050/1050 [==============================] - 2s 2ms/step - loss: 0.9765 - accuracy: 0.6671 - val_loss: 0.2098 - val_accuracy: 0.9414\n",
      "Epoch 2/5\n",
      "1050/1050 [==============================] - 2s 2ms/step - loss: 0.2825 - accuracy: 0.9213 - val_loss: 0.1670 - val_accuracy: 0.9539\n",
      "Epoch 3/5\n",
      "1050/1050 [==============================] - 2s 2ms/step - loss: 0.2164 - accuracy: 0.9407 - val_loss: 0.1570 - val_accuracy: 0.9574\n",
      "Epoch 4/5\n",
      "1050/1050 [==============================] - 2s 2ms/step - loss: 0.1887 - accuracy: 0.9496 - val_loss: 0.1416 - val_accuracy: 0.9634\n",
      "Epoch 5/5\n",
      "1050/1050 [==============================] - 2s 2ms/step - loss: 0.1609 - accuracy: 0.9581 - val_loss: 0.1400 - val_accuracy: 0.9635\n",
      "263/263 [==============================] - 0s 1ms/step - loss: 0.1295 - accuracy: 0.9657\n",
      "Epoch 1/5\n",
      "1050/1050 [==============================] - 3s 2ms/step - loss: 0.9677 - accuracy: 0.6660 - val_loss: 0.2172 - val_accuracy: 0.9384\n",
      "Epoch 2/5\n",
      "1050/1050 [==============================] - 2s 2ms/step - loss: 0.2712 - accuracy: 0.9253 - val_loss: 0.1674 - val_accuracy: 0.9532\n",
      "Epoch 3/5\n",
      "1050/1050 [==============================] - 2s 2ms/step - loss: 0.2153 - accuracy: 0.9397 - val_loss: 0.1489 - val_accuracy: 0.9591\n",
      "Epoch 4/5\n",
      "1050/1050 [==============================] - 2s 2ms/step - loss: 0.1746 - accuracy: 0.9529 - val_loss: 0.1394 - val_accuracy: 0.9612\n",
      "Epoch 5/5\n",
      "1050/1050 [==============================] - 2s 2ms/step - loss: 0.1611 - accuracy: 0.9569 - val_loss: 0.1462 - val_accuracy: 0.9595\n",
      "263/263 [==============================] - 0s 1ms/step - loss: 0.1484 - accuracy: 0.9613\n",
      "Epoch 1/5\n",
      "1050/1050 [==============================] - 2s 2ms/step - loss: 0.9566 - accuracy: 0.6749 - val_loss: 0.2284 - val_accuracy: 0.9356\n",
      "Epoch 2/5\n",
      "1050/1050 [==============================] - 2s 2ms/step - loss: 0.2646 - accuracy: 0.9278 - val_loss: 0.1923 - val_accuracy: 0.9441\n",
      "Epoch 3/5\n",
      "1050/1050 [==============================] - 2s 2ms/step - loss: 0.2150 - accuracy: 0.9421 - val_loss: 0.1532 - val_accuracy: 0.9548\n",
      "Epoch 4/5\n",
      "1050/1050 [==============================] - 2s 2ms/step - loss: 0.1794 - accuracy: 0.9525 - val_loss: 0.1482 - val_accuracy: 0.9592\n",
      "Epoch 5/5\n",
      "1050/1050 [==============================] - 2s 2ms/step - loss: 0.1587 - accuracy: 0.9591 - val_loss: 0.1386 - val_accuracy: 0.9624\n",
      "263/263 [==============================] - 0s 1ms/step - loss: 0.1294 - accuracy: 0.9644\n",
      "Epoch 1/5\n",
      "1050/1050 [==============================] - 2s 2ms/step - loss: 0.9740 - accuracy: 0.6680 - val_loss: 0.2216 - val_accuracy: 0.9378\n",
      "Epoch 2/5\n",
      "1050/1050 [==============================] - 2s 2ms/step - loss: 0.2742 - accuracy: 0.9257 - val_loss: 0.1704 - val_accuracy: 0.9514\n",
      "Epoch 3/5\n",
      "1050/1050 [==============================] - 2s 2ms/step - loss: 0.2043 - accuracy: 0.9435 - val_loss: 0.1526 - val_accuracy: 0.9582\n",
      "Epoch 4/5\n",
      "1050/1050 [==============================] - 2s 2ms/step - loss: 0.1748 - accuracy: 0.9517 - val_loss: 0.1289 - val_accuracy: 0.9639\n",
      "Epoch 5/5\n",
      "1050/1050 [==============================] - 2s 2ms/step - loss: 0.1597 - accuracy: 0.9567 - val_loss: 0.1290 - val_accuracy: 0.9648\n",
      "263/263 [==============================] - 0s 1ms/step - loss: 0.1340 - accuracy: 0.9620\n",
      "Epoch 1/5\n",
      "1050/1050 [==============================] - 2s 2ms/step - loss: 0.9715 - accuracy: 0.6636 - val_loss: 0.2199 - val_accuracy: 0.9357\n",
      "Epoch 2/5\n",
      "1050/1050 [==============================] - 2s 2ms/step - loss: 0.2881 - accuracy: 0.9217 - val_loss: 0.1736 - val_accuracy: 0.9522\n",
      "Epoch 3/5\n",
      "1050/1050 [==============================] - 2s 2ms/step - loss: 0.2169 - accuracy: 0.9414 - val_loss: 0.1584 - val_accuracy: 0.9555\n",
      "Epoch 4/5\n",
      "1050/1050 [==============================] - 2s 2ms/step - loss: 0.1796 - accuracy: 0.9496 - val_loss: 0.1440 - val_accuracy: 0.9598\n",
      "Epoch 5/5\n",
      "1050/1050 [==============================] - 2s 2ms/step - loss: 0.1603 - accuracy: 0.9554 - val_loss: 0.1330 - val_accuracy: 0.9623\n",
      "263/263 [==============================] - 0s 1ms/step - loss: 0.1275 - accuracy: 0.9655\n",
      "Epoch 1/5\n",
      "1050/1050 [==============================] - 3s 3ms/step - loss: 0.6992 - accuracy: 0.7655 - val_loss: 0.1847 - val_accuracy: 0.9473\n",
      "Epoch 2/5\n"
     ]
    },
    {
     "name": "stdout",
     "output_type": "stream",
     "text": [
      "1050/1050 [==============================] - 3s 2ms/step - loss: 0.1985 - accuracy: 0.9446 - val_loss: 0.1431 - val_accuracy: 0.9616\n",
      "Epoch 3/5\n",
      "1050/1050 [==============================] - 3s 2ms/step - loss: 0.1525 - accuracy: 0.9592 - val_loss: 0.1313 - val_accuracy: 0.9613\n",
      "Epoch 4/5\n",
      "1050/1050 [==============================] - 3s 2ms/step - loss: 0.1290 - accuracy: 0.9644 - val_loss: 0.1185 - val_accuracy: 0.9677\n",
      "Epoch 5/5\n",
      "1050/1050 [==============================] - 3s 2ms/step - loss: 0.1069 - accuracy: 0.9724 - val_loss: 0.1153 - val_accuracy: 0.9680\n",
      "263/263 [==============================] - 0s 1ms/step - loss: 0.1104 - accuracy: 0.9712\n",
      "Epoch 1/5\n",
      "1050/1050 [==============================] - 3s 3ms/step - loss: 0.6911 - accuracy: 0.7772 - val_loss: 0.1832 - val_accuracy: 0.9463\n",
      "Epoch 2/5\n",
      "1050/1050 [==============================] - 3s 3ms/step - loss: 0.2007 - accuracy: 0.9447 - val_loss: 0.1373 - val_accuracy: 0.9620\n",
      "Epoch 3/5\n",
      "1050/1050 [==============================] - 3s 3ms/step - loss: 0.1500 - accuracy: 0.9591 - val_loss: 0.1354 - val_accuracy: 0.9637\n",
      "Epoch 4/5\n",
      "1050/1050 [==============================] - 3s 3ms/step - loss: 0.1221 - accuracy: 0.9669 - val_loss: 0.1249 - val_accuracy: 0.9659\n",
      "Epoch 5/5\n",
      "1050/1050 [==============================] - 3s 2ms/step - loss: 0.1167 - accuracy: 0.9661 - val_loss: 0.1240 - val_accuracy: 0.9651\n",
      "263/263 [==============================] - 0s 1ms/step - loss: 0.1331 - accuracy: 0.9656\n",
      "Epoch 1/5\n",
      "1050/1050 [==============================] - 3s 3ms/step - loss: 0.7074 - accuracy: 0.7688 - val_loss: 0.1840 - val_accuracy: 0.9496\n",
      "Epoch 2/5\n",
      "1050/1050 [==============================] - 3s 2ms/step - loss: 0.2060 - accuracy: 0.9437 - val_loss: 0.1416 - val_accuracy: 0.9597\n",
      "Epoch 3/5\n",
      "1050/1050 [==============================] - 3s 2ms/step - loss: 0.1498 - accuracy: 0.9581 - val_loss: 0.1341 - val_accuracy: 0.9629\n",
      "Epoch 4/5\n",
      "1050/1050 [==============================] - 3s 2ms/step - loss: 0.1269 - accuracy: 0.9656 - val_loss: 0.1195 - val_accuracy: 0.9674\n",
      "Epoch 5/5\n",
      "1050/1050 [==============================] - 3s 2ms/step - loss: 0.1017 - accuracy: 0.9719 - val_loss: 0.1242 - val_accuracy: 0.9656\n",
      "263/263 [==============================] - 0s 1ms/step - loss: 0.1201 - accuracy: 0.9668\n",
      "Epoch 1/5\n",
      "1050/1050 [==============================] - 3s 3ms/step - loss: 0.6862 - accuracy: 0.7749 - val_loss: 0.1696 - val_accuracy: 0.9516\n",
      "Epoch 2/5\n",
      "1050/1050 [==============================] - 3s 2ms/step - loss: 0.1980 - accuracy: 0.9454 - val_loss: 0.1458 - val_accuracy: 0.9601\n",
      "Epoch 3/5\n",
      "1050/1050 [==============================] - 3s 2ms/step - loss: 0.1459 - accuracy: 0.9589 - val_loss: 0.1246 - val_accuracy: 0.9639\n",
      "Epoch 4/5\n",
      "1050/1050 [==============================] - 3s 2ms/step - loss: 0.1243 - accuracy: 0.9654 - val_loss: 0.1520 - val_accuracy: 0.9612\n",
      "Epoch 5/5\n",
      "1050/1050 [==============================] - 3s 2ms/step - loss: 0.1088 - accuracy: 0.9687 - val_loss: 0.1322 - val_accuracy: 0.9634\n",
      "263/263 [==============================] - 0s 1ms/step - loss: 0.1351 - accuracy: 0.9638\n",
      "Epoch 1/5\n",
      "1050/1050 [==============================] - 3s 3ms/step - loss: 0.6960 - accuracy: 0.7698 - val_loss: 0.1825 - val_accuracy: 0.9478\n",
      "Epoch 2/5\n",
      "1050/1050 [==============================] - 3s 2ms/step - loss: 0.1910 - accuracy: 0.9467 - val_loss: 0.1518 - val_accuracy: 0.9577\n",
      "Epoch 3/5\n",
      "1050/1050 [==============================] - 3s 2ms/step - loss: 0.1513 - accuracy: 0.9568 - val_loss: 0.1493 - val_accuracy: 0.9607\n",
      "Epoch 4/5\n",
      "1050/1050 [==============================] - 3s 2ms/step - loss: 0.1249 - accuracy: 0.9657 - val_loss: 0.1282 - val_accuracy: 0.9656\n",
      "Epoch 5/5\n",
      "1050/1050 [==============================] - 3s 2ms/step - loss: 0.0992 - accuracy: 0.9716 - val_loss: 0.1133 - val_accuracy: 0.9689\n",
      "263/263 [==============================] - 0s 1ms/step - loss: 0.1165 - accuracy: 0.9700\n",
      "Epoch 1/5\n",
      "1050/1050 [==============================] - 8s 7ms/step - loss: 0.5962 - accuracy: 0.8095 - val_loss: 0.1754 - val_accuracy: 0.9504\n",
      "Epoch 2/5\n",
      "1050/1050 [==============================] - 8s 7ms/step - loss: 0.1906 - accuracy: 0.9486 - val_loss: 0.1403 - val_accuracy: 0.9611\n",
      "Epoch 3/5\n",
      "1050/1050 [==============================] - 8s 7ms/step - loss: 0.1382 - accuracy: 0.9632 - val_loss: 0.1313 - val_accuracy: 0.9658\n",
      "Epoch 4/5\n",
      "1050/1050 [==============================] - 8s 7ms/step - loss: 0.1133 - accuracy: 0.9707 - val_loss: 0.1681 - val_accuracy: 0.9554\n",
      "Epoch 5/5\n",
      "1050/1050 [==============================] - 8s 7ms/step - loss: 0.1057 - accuracy: 0.9717 - val_loss: 0.1539 - val_accuracy: 0.9608\n",
      "263/263 [==============================] - 1s 2ms/step - loss: 0.1359 - accuracy: 0.9645\n",
      "Epoch 1/5\n",
      "1050/1050 [==============================] - 8s 7ms/step - loss: 0.5962 - accuracy: 0.8067 - val_loss: 0.2095 - val_accuracy: 0.9446\n",
      "Epoch 2/5\n",
      "1050/1050 [==============================] - 7s 7ms/step - loss: 0.1911 - accuracy: 0.9486 - val_loss: 0.1440 - val_accuracy: 0.9601\n",
      "Epoch 3/5\n",
      "1050/1050 [==============================] - 7s 7ms/step - loss: 0.1380 - accuracy: 0.9626 - val_loss: 0.1438 - val_accuracy: 0.9608\n",
      "Epoch 4/5\n",
      "1050/1050 [==============================] - 8s 7ms/step - loss: 0.1254 - accuracy: 0.9677 - val_loss: 0.1487 - val_accuracy: 0.9654\n",
      "Epoch 5/5\n",
      "1050/1050 [==============================] - 7s 7ms/step - loss: 0.1015 - accuracy: 0.9746 - val_loss: 0.1300 - val_accuracy: 0.9685\n",
      "263/263 [==============================] - 1s 2ms/step - loss: 0.1243 - accuracy: 0.9707\n",
      "Epoch 1/5\n",
      "1050/1050 [==============================] - 8s 7ms/step - loss: 0.5866 - accuracy: 0.8101 - val_loss: 0.2404 - val_accuracy: 0.9331\n",
      "Epoch 2/5\n",
      "1050/1050 [==============================] - 8s 7ms/step - loss: 0.1941 - accuracy: 0.9466 - val_loss: 0.1393 - val_accuracy: 0.9611\n",
      "Epoch 3/5\n",
      "1050/1050 [==============================] - 8s 7ms/step - loss: 0.1460 - accuracy: 0.9617 - val_loss: 0.1345 - val_accuracy: 0.9642\n",
      "Epoch 4/5\n",
      "1050/1050 [==============================] - 8s 7ms/step - loss: 0.1226 - accuracy: 0.9685 - val_loss: 0.1554 - val_accuracy: 0.9621\n",
      "Epoch 5/5\n",
      "1050/1050 [==============================] - 7s 7ms/step - loss: 0.1166 - accuracy: 0.9691 - val_loss: 0.1237 - val_accuracy: 0.9700\n",
      "263/263 [==============================] - 1s 2ms/step - loss: 0.1256 - accuracy: 0.9705\n",
      "Epoch 1/5\n",
      "1050/1050 [==============================] - 8s 7ms/step - loss: 0.5862 - accuracy: 0.8121 - val_loss: 0.2060 - val_accuracy: 0.9413\n",
      "Epoch 2/5\n",
      "1050/1050 [==============================] - 7s 7ms/step - loss: 0.1911 - accuracy: 0.9482 - val_loss: 0.1615 - val_accuracy: 0.9556\n",
      "Epoch 3/5\n",
      "1050/1050 [==============================] - 8s 7ms/step - loss: 0.1352 - accuracy: 0.9628 - val_loss: 0.1582 - val_accuracy: 0.9591\n",
      "Epoch 4/5\n",
      "1050/1050 [==============================] - 8s 7ms/step - loss: 0.1229 - accuracy: 0.9671 - val_loss: 0.1471 - val_accuracy: 0.9629\n",
      "Epoch 5/5\n",
      "1050/1050 [==============================] - 8s 7ms/step - loss: 0.1052 - accuracy: 0.9722 - val_loss: 0.1128 - val_accuracy: 0.9716\n",
      "263/263 [==============================] - 1s 2ms/step - loss: 0.1099 - accuracy: 0.9708\n",
      "Epoch 1/5\n",
      "1050/1050 [==============================] - 8s 7ms/step - loss: 0.5952 - accuracy: 0.8096 - val_loss: 0.1864 - val_accuracy: 0.9480\n",
      "Epoch 2/5\n",
      "1050/1050 [==============================] - 8s 7ms/step - loss: 0.1947 - accuracy: 0.9464 - val_loss: 0.1614 - val_accuracy: 0.9546\n",
      "Epoch 3/5\n",
      "1050/1050 [==============================] - 8s 7ms/step - loss: 0.1398 - accuracy: 0.9621 - val_loss: 0.1784 - val_accuracy: 0.9569\n",
      "Epoch 4/5\n",
      "1050/1050 [==============================] - 8s 7ms/step - loss: 0.1206 - accuracy: 0.9679 - val_loss: 0.1288 - val_accuracy: 0.9682\n",
      "Epoch 5/5\n",
      "1050/1050 [==============================] - 8s 7ms/step - loss: 0.1056 - accuracy: 0.9725 - val_loss: 0.1205 - val_accuracy: 0.9713\n",
      "263/263 [==============================] - 1s 2ms/step - loss: 0.1218 - accuracy: 0.9696\n",
      "Epoch 1/5\n",
      "1313/1313 [==============================] - 9s 6ms/step - loss: 0.5562 - accuracy: 0.8228 - val_loss: 0.1627 - val_accuracy: 0.9562\n",
      "Epoch 2/5\n",
      "1313/1313 [==============================] - 8s 6ms/step - loss: 0.1816 - accuracy: 0.9518 - val_loss: 0.1424 - val_accuracy: 0.9631\n",
      "Epoch 3/5\n"
     ]
    },
    {
     "name": "stdout",
     "output_type": "stream",
     "text": [
      "1313/1313 [==============================] - 8s 6ms/step - loss: 0.1416 - accuracy: 0.9625 - val_loss: 0.1469 - val_accuracy: 0.9664\n",
      "Epoch 4/5\n",
      "1313/1313 [==============================] - 8s 6ms/step - loss: 0.1197 - accuracy: 0.9689 - val_loss: 0.1517 - val_accuracy: 0.9632\n",
      "Epoch 5/5\n",
      "1313/1313 [==============================] - 8s 6ms/step - loss: 0.1050 - accuracy: 0.9725 - val_loss: 0.1386 - val_accuracy: 0.9678\n"
     ]
    }
   ],
   "source": [
    "grid = GridSearchCV(estimator=model, param_grid=param_grid, n_jobs=None)\n",
    "grid_result = grid.fit(train_images, train_labels, validation_data = (val_images, val_labels), epochs=5)"
   ]
  },
  {
   "cell_type": "markdown",
   "metadata": {},
   "source": [
    "** Let's print some results. Fill in the #TO DOs with the best_score and best_params that you got after fitting. **"
   ]
  },
  {
   "cell_type": "code",
   "execution_count": 61,
   "metadata": {},
   "outputs": [
    {
     "name": "stdout",
     "output_type": "stream",
     "text": [
      "Best: 0.969238 using {'neurons': 500}\n",
      "0.947095 (0.005313) with: {'neurons': 50}\n",
      "0.963786 (0.001800) with: {'neurons': 100}\n",
      "0.967476 (0.002743) with: {'neurons': 250}\n",
      "0.969238 (0.002394) with: {'neurons': 500}\n"
     ]
    }
   ],
   "source": [
    "print(\"Best: %f using %s\" % (grid_result.best_score_, grid_result.best_params_)) \n",
    "means = grid_result.cv_results_['mean_test_score']\n",
    "stds = grid_result.cv_results_['std_test_score']\n",
    "params = grid_result.cv_results_['params']\n",
    "for mean, stdev, param in zip(means, stds, params):\n",
    "    print(\"%f (%f) with: %r\" % (mean, stdev, param))\n",
    "    "
   ]
  },
  {
   "cell_type": "code",
   "execution_count": null,
   "metadata": {},
   "outputs": [],
   "source": []
  }
 ],
 "metadata": {
  "kernelspec": {
   "display_name": "Python 3",
   "language": "python",
   "name": "python3"
  },
  "language_info": {
   "codemirror_mode": {
    "name": "ipython",
    "version": 3
   },
   "file_extension": ".py",
   "mimetype": "text/x-python",
   "name": "python",
   "nbconvert_exporter": "python",
   "pygments_lexer": "ipython3",
   "version": "3.8.5"
  }
 },
 "nbformat": 4,
 "nbformat_minor": 2
}
